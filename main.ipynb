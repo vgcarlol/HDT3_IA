{
 "cells": [
  {
   "cell_type": "markdown",
   "metadata": {},
   "source": [
    "# Hoja de trabajo 3 - IA\n",
    "\n",
    "Integrantes:\n",
    "- Juan Pablo Solis, \n",
    "- Brandon Reyes, 22992\n",
    "- Carlos Valladares, 221164\n",
    "\n",
    "[Repositorio GitHub](https://github.com/vgcarlol/HDT3_IA)"
   ]
  },
  {
   "cell_type": "markdown",
   "metadata": {},
   "source": [
    "# Task Único\n",
    "\n",
    "Responda a cada de las siguientes preguntas de forma clara y lo más completamente posible\n",
    "\n",
    "1. Investigue una aplicación de las redes de Markov"
   ]
  },
  {
   "cell_type": "markdown",
   "metadata": {},
   "source": [
    "Las redes de Markov se utilizan en el procesamiento y análisis de imágenes. Un ejemplo es la segmentación de imágenes en visión computacional, en este caso cada píxel de la imagen es modelado como una variable aleatoria que depende de los píxeles vecinos, de esta manera, se establece una red en la que se asegura la coherencia espacial, ayudando a agrupar regiones homogéneas y a detectar bordes o límites entre distintos objetos resultando especialmente útil para reducir el ruido y así mejorar la precisión en identificación de estructuras dentro de la imagen."
   ]
  },
  {
   "cell_type": "markdown",
   "metadata": {},
   "source": [
    "2. Como se puede aplicar el Muestreo de Gibbs para image denoising"
   ]
  },
  {
   "cell_type": "markdown",
   "metadata": {},
   "source": [
    "Es un algoritmo de muestreo iterativo que es usado para aproximar distribuciones de probabilidad complejas, especificamente en sistemas de alta dimensión, para el caso de image denoising, se aplica de la siguiente manera:\n",
    "\n",
    "- Asumimos que la imagen limpia es posible modelarla por medio de un campo aleatorio de Markov en la cual la probabilidad de que un píxel tenga un determinado valor depende de los valores de sus píxeles vecinos.\n",
    "- Luego el muestreo de Gibbs actualiza el valor de cada píxel de manera iterativa, extrayendo nuevos valores que se encuentran basados en la distribución condicional dada por sus vecinos y la observación ruidosa.\n",
    "- Al llegar a repetir el proceso para todos los píxeles en varias iteraciones, simulamos la distribución de la imagen limpia, conforme avanza el tiempo la imagen generada converge hacia una versión suavizada y sin el ruido introducido durante la adquisición."
   ]
  },
  {
   "cell_type": "markdown",
   "metadata": {},
   "source": [
    "3. Investigue una aplicación de Redes Bayesianas"
   ]
  },
  {
   "cell_type": "markdown",
   "metadata": {},
   "source": [
    "Una aplicación de las redes bayesianas es en el diagnóstico médico, debido a que se emplean para evaluar la probabilidad de diferentes enfermedades basándose en la presencia de síntomas, resultados de pruebas y antecedentes clínicos, visto de otra manera, cada nodo de la red representa una variable médica y las conexiones entre ellos modelan las relaciones causales, permitiendo actualizar las probabilidades de una enfermedad conforme se disponga de nueva evidencia, ayudando así a los médicos a tomar decisiones teniendo mayor información."
   ]
  },
  {
   "cell_type": "markdown",
   "metadata": {},
   "source": [
    "4. Explique en sus propias palabras el término “explaining away”"
   ]
  },
  {
   "cell_type": "markdown",
   "metadata": {},
   "source": [
    "El \"explaining away\" se refiere a la situación en la que la evidencia que confirma una de varias causas posibles para un mismo efecto reduce la probabilidad de que las demás causas sean responsables, ya que la causa confirmada \"explica\" suficientemente el fenómeno observado."
   ]
  }
 ],
 "metadata": {
  "language_info": {
   "name": "python"
  }
 },
 "nbformat": 4,
 "nbformat_minor": 5
}
